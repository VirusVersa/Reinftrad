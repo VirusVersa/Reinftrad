{
  "nbformat": 4,
  "nbformat_minor": 0,
  "metadata": {
    "colab": {
      "name": "Environment.ipynb",
      "provenance": [],
      "authorship_tag": "ABX9TyP3rKybs7jXiieAY7/6YZtl",
      "include_colab_link": true
    },
    "kernelspec": {
      "name": "python3",
      "display_name": "Python 3"
    },
    "language_info": {
      "name": "python"
    }
  },
  "cells": [
    {
      "cell_type": "markdown",
      "metadata": {
        "id": "view-in-github",
        "colab_type": "text"
      },
      "source": [
        "<a href=\"https://colab.research.google.com/github/VirusVersa/Reinftrad/blob/main/Environment.ipynb\" target=\"_parent\"><img src=\"https://colab.research.google.com/assets/colab-badge.svg\" alt=\"Open In Colab\"/></a>"
      ]
    },
    {
      "cell_type": "code",
      "execution_count": 2,
      "metadata": {
        "id": "txhDKi8JzsNI"
      },
      "outputs": [],
      "source": [
        "class Environment:\n",
        "    PRICE_IDX = 4  # 종가의 위치\n",
        "\n",
        "    def __init__(self, chart_data=None):\n",
        "        self.chart_data = chart_data\n",
        "        self.observation = None\n",
        "        self.idx = -1\n",
        "\n",
        "    def reset(self):\n",
        "        self.observation = None\n",
        "        self.idx = -1\n",
        "\n",
        "    def observe(self):\n",
        "        if len(self.chart_data) > self.idx + 1:\n",
        "            self.idx += 1\n",
        "            self.observation = self.chart_data.iloc[self.idx]\n",
        "            return self.observation\n",
        "        return None\n",
        "\n",
        "    def get_price(self):\n",
        "        if self.observation is not None:\n",
        "            return self.observation[self.PRICE_IDX]\n",
        "        return None"
      ]
    }
  ]
}